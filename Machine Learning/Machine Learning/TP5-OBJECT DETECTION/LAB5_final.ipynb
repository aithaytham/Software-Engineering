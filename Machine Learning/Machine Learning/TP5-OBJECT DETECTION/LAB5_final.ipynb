{
  "nbformat": 4,
  "nbformat_minor": 0,
  "metadata": {
    "colab": {
      "name": "LAB5_final.ipynb",
      "provenance": [],
      "collapsed_sections": [],
      "machine_shape": "hm"
    },
    "kernelspec": {
      "name": "python3",
      "display_name": "Python 3"
    },
    "accelerator": "GPU"
  },
  "cells": [
    {
      "cell_type": "code",
      "metadata": {
        "id": "XnJrjxEk_IAs",
        "colab_type": "code",
        "outputId": "c5dd826a-513e-4abf-9db1-b0702d70ebae",
        "colab": {
          "base_uri": "https://localhost:8080/",
          "height": 136
        }
      },
      "source": [
        "import os\n",
        "!ls\n",
        "!git clone https://github.com/matterport/Mask_RCNN.git\n",
        "os.chdir('/content/Mask_RCNN/')\n",
        "!pwd"
      ],
      "execution_count": 1,
      "outputs": [
        {
          "output_type": "stream",
          "text": [
            "mask_rcnn_coco.h5  sample_data\n",
            "Cloning into 'Mask_RCNN'...\n",
            "remote: Enumerating objects: 956, done.\u001b[K\n",
            "remote: Total 956 (delta 0), reused 0 (delta 0), pack-reused 956\u001b[K\n",
            "Receiving objects: 100% (956/956), 111.84 MiB | 44.82 MiB/s, done.\n",
            "Resolving deltas: 100% (570/570), done.\n",
            "/content/Mask_RCNN\n"
          ],
          "name": "stdout"
        }
      ]
    },
    {
      "cell_type": "code",
      "metadata": {
        "id": "zasYomjs_SnO",
        "colab_type": "code",
        "outputId": "3954e4ba-ce49-4d67-d817-c6b9f6bc103d",
        "colab": {
          "base_uri": "https://localhost:8080/",
          "height": 935
        }
      },
      "source": [
        "!python3 setup.py install"
      ],
      "execution_count": 2,
      "outputs": [
        {
          "output_type": "stream",
          "text": [
            "WARNING:root:Fail load requirements file, so using default ones.\n",
            "running install\n",
            "running bdist_egg\n",
            "running egg_info\n",
            "creating mask_rcnn.egg-info\n",
            "writing mask_rcnn.egg-info/PKG-INFO\n",
            "writing dependency_links to mask_rcnn.egg-info/dependency_links.txt\n",
            "writing top-level names to mask_rcnn.egg-info/top_level.txt\n",
            "writing manifest file 'mask_rcnn.egg-info/SOURCES.txt'\n",
            "reading manifest template 'MANIFEST.in'\n",
            "writing manifest file 'mask_rcnn.egg-info/SOURCES.txt'\n",
            "installing library code to build/bdist.linux-x86_64/egg\n",
            "running install_lib\n",
            "running build_py\n",
            "creating build\n",
            "creating build/lib\n",
            "creating build/lib/mrcnn\n",
            "copying mrcnn/model.py -> build/lib/mrcnn\n",
            "copying mrcnn/parallel_model.py -> build/lib/mrcnn\n",
            "copying mrcnn/__init__.py -> build/lib/mrcnn\n",
            "copying mrcnn/visualize.py -> build/lib/mrcnn\n",
            "copying mrcnn/utils.py -> build/lib/mrcnn\n",
            "copying mrcnn/config.py -> build/lib/mrcnn\n",
            "creating build/bdist.linux-x86_64\n",
            "creating build/bdist.linux-x86_64/egg\n",
            "creating build/bdist.linux-x86_64/egg/mrcnn\n",
            "copying build/lib/mrcnn/model.py -> build/bdist.linux-x86_64/egg/mrcnn\n",
            "copying build/lib/mrcnn/parallel_model.py -> build/bdist.linux-x86_64/egg/mrcnn\n",
            "copying build/lib/mrcnn/__init__.py -> build/bdist.linux-x86_64/egg/mrcnn\n",
            "copying build/lib/mrcnn/visualize.py -> build/bdist.linux-x86_64/egg/mrcnn\n",
            "copying build/lib/mrcnn/utils.py -> build/bdist.linux-x86_64/egg/mrcnn\n",
            "copying build/lib/mrcnn/config.py -> build/bdist.linux-x86_64/egg/mrcnn\n",
            "byte-compiling build/bdist.linux-x86_64/egg/mrcnn/model.py to model.cpython-36.pyc\n",
            "byte-compiling build/bdist.linux-x86_64/egg/mrcnn/parallel_model.py to parallel_model.cpython-36.pyc\n",
            "byte-compiling build/bdist.linux-x86_64/egg/mrcnn/__init__.py to __init__.cpython-36.pyc\n",
            "byte-compiling build/bdist.linux-x86_64/egg/mrcnn/visualize.py to visualize.cpython-36.pyc\n",
            "byte-compiling build/bdist.linux-x86_64/egg/mrcnn/utils.py to utils.cpython-36.pyc\n",
            "byte-compiling build/bdist.linux-x86_64/egg/mrcnn/config.py to config.cpython-36.pyc\n",
            "creating build/bdist.linux-x86_64/egg/EGG-INFO\n",
            "copying mask_rcnn.egg-info/PKG-INFO -> build/bdist.linux-x86_64/egg/EGG-INFO\n",
            "copying mask_rcnn.egg-info/SOURCES.txt -> build/bdist.linux-x86_64/egg/EGG-INFO\n",
            "copying mask_rcnn.egg-info/dependency_links.txt -> build/bdist.linux-x86_64/egg/EGG-INFO\n",
            "copying mask_rcnn.egg-info/top_level.txt -> build/bdist.linux-x86_64/egg/EGG-INFO\n",
            "zip_safe flag not set; analyzing archive contents...\n",
            "creating dist\n",
            "creating 'dist/mask_rcnn-2.1-py3.6.egg' and adding 'build/bdist.linux-x86_64/egg' to it\n",
            "removing 'build/bdist.linux-x86_64/egg' (and everything under it)\n",
            "Processing mask_rcnn-2.1-py3.6.egg\n",
            "Copying mask_rcnn-2.1-py3.6.egg to /usr/local/lib/python3.6/dist-packages\n",
            "Adding mask-rcnn 2.1 to easy-install.pth file\n",
            "\n",
            "Installed /usr/local/lib/python3.6/dist-packages/mask_rcnn-2.1-py3.6.egg\n",
            "Processing dependencies for mask-rcnn==2.1\n",
            "Finished processing dependencies for mask-rcnn==2.1\n"
          ],
          "name": "stdout"
        }
      ]
    },
    {
      "cell_type": "code",
      "metadata": {
        "id": "i1jkH_0L_W1T",
        "colab_type": "code",
        "outputId": "87bf9170-3b1b-41e9-a00a-1b60b0b455d8",
        "colab": {
          "base_uri": "https://localhost:8080/",
          "height": 119
        }
      },
      "source": [
        "!git clone https://github.com/aithaytham/image"
      ],
      "execution_count": 3,
      "outputs": [
        {
          "output_type": "stream",
          "text": [
            "Cloning into 'image'...\n",
            "remote: Enumerating objects: 56, done.\u001b[K\n",
            "remote: Counting objects: 100% (56/56), done.\u001b[K\n",
            "remote: Compressing objects: 100% (56/56), done.\u001b[K\n",
            "remote: Total 56 (delta 1), reused 0 (delta 0), pack-reused 0\u001b[K\n",
            "Unpacking objects: 100% (56/56), done.\n"
          ],
          "name": "stdout"
        }
      ]
    },
    {
      "cell_type": "code",
      "metadata": {
        "id": "bkPSdb8WUVuv",
        "colab_type": "code",
        "outputId": "27d88367-4514-4824-f170-5f75cc38da28",
        "colab": {
          "base_uri": "https://localhost:8080/",
          "height": 136
        }
      },
      "source": [
        "!git clone https://github.com/scikit-image/scikit-image"
      ],
      "execution_count": 4,
      "outputs": [
        {
          "output_type": "stream",
          "text": [
            "Cloning into 'scikit-image'...\n",
            "remote: Enumerating objects: 5, done.\u001b[K\n",
            "remote: Counting objects: 100% (5/5), done.\u001b[K\n",
            "remote: Compressing objects: 100% (5/5), done.\u001b[K\n",
            "remote: Total 71121 (delta 0), reused 3 (delta 0), pack-reused 71116\u001b[K\n",
            "Receiving objects: 100% (71121/71121), 60.16 MiB | 30.48 MiB/s, done.\n",
            "Resolving deltas: 100% (52399/52399), done.\n"
          ],
          "name": "stdout"
        }
      ]
    },
    {
      "cell_type": "code",
      "metadata": {
        "id": "2L0_fwL9_cL9",
        "colab_type": "code",
        "colab": {}
      },
      "source": [
        "#importer l'ensembles des librairies dont on nous avons besoin\n",
        "import json\n",
        "\n",
        "from PIL import Image\n",
        "\n",
        "from os import listdir\n",
        "\n",
        "from numpy import zeros\n",
        "from numpy import asarray\n",
        "from numpy import expand_dims\n",
        "from numpy import mean\n",
        "\n",
        "from mrcnn.utils import extract_bboxes\n",
        "from mrcnn.utils import compute_ap\n",
        "from mrcnn.utils import Dataset\n",
        "\n",
        "from mrcnn.config import Config\n",
        "\n",
        "from mrcnn.model import mold_image\n",
        "from mrcnn.model import MaskRCNN\n",
        "from mrcnn.model import load_image_gt\n",
        "\n",
        "from mrcnn.visualize import display_instances\n",
        "\n",
        "import skimage\n",
        "\n",
        "from matplotlib import pyplot\n",
        "\n",
        "import random"
      ],
      "execution_count": 0,
      "outputs": []
    },
    {
      "cell_type": "code",
      "metadata": {
        "id": "nFuqNghq_fpj",
        "colab_type": "code",
        "colab": {}
      },
      "source": [
        "#la sortie de la fonction tableau_information : deux listes img_id et coordonnes\n",
        "\n",
        "#exemples:\n",
        "\n",
        "# img_id = ['img1','img2',...,'img101'] \n",
        "\n",
        "\n",
        "# coordonnees = [[{'shape_attributes': {'name': 'polyline', \n",
        "#'all_points_x': [55, 76, 92, 102, 101, 84, 73, 59, 57],\n",
        "#    'all_points_y': [40, 55, 55, 57, 41, 41, 37, 36, 44]},\n",
        "#   'region_attributes': {}},\n",
        "#  {'shape_attributes': {'name': 'polyline',\n",
        "#    'all_points_x': [155, 174, 185, 186, 149, 147, 161],\n",
        "#    'all_points_y': [66, 61, 64, 53, 48, 52, 66]},\n",
        "#   'region_attributes': {}}],\n",
        "# [{'shape_attributes': {'name': 'polyline',\n",
        "#    'all_points_x': [315, 333, 351, 368, 368, 353, 331, 321, 319],\n",
        "#    'all_points_y': [103, 113, 114, 110, 99, 100, 98, 96, 104]},\n",
        "#   'region_attributes': {}}]] \n",
        "\n",
        "\n",
        "def tableau_information():\n",
        "    with open ('/content/Mask_RCNN/image/ImageJSON2.json') as json_data:\n",
        "        a=json.load(json_data)\n",
        "        img_id=[]\n",
        "        coordonnees=[]\n",
        "        for i in range(len(list(a.values()))):\n",
        "            img_id.append(list(a.values())[i][\"filename\"])\n",
        "            coordonnees.append(list(a.values())[i][\"regions\"])\n",
        "        \n",
        "        return img_id, coordonnees\n",
        "\n",
        "#le tableau d est le tableau que nous allons utiliser en fonction de notre fichier JSON \n",
        "d=tableau_information()[0]\n",
        "\n",
        "# la list train est la liste random des 80 images que nous allons utiliser pour la partie train\n",
        "list_train = random.sample(range(1,len(d)+1), int(0.2*len(d)+1))\n",
        "#la sortie de la fonction information : une liste \n",
        "\n",
        "#exemple:\n",
        "\n",
        "# list_train = [[[[[122, 124, 134, 140, 146, 151, 155, 166, 169, 169, 155, 144, 133, 123, 123], [64, 73, 73, 69, 62, 65, 69, 69, 61, 56, 56, 59, 60, 61, 66]]], 299, 168]\n",
        "\n",
        "# list_train = [[[[[\"all_points_x\"], [\"all_points_y\"]]], w, h]\n",
        "    \n",
        "      \n",
        "def information (img_name, donnees):\n",
        "    with open ('/content/Mask_RCNN/image/ImageJSON2.json') as json_data:\n",
        "        a=json.load(json_data)\n",
        "        ind = donnees.index(img_name + '.jpg')\n",
        "        \n",
        "        nbr_boxes=len(list(a.values())[ind][\"regions\"])\n",
        "        list_info=[[]] \n",
        "        \n",
        "        for j in range(nbr_boxes):  \n",
        "            x=(list(a.values())[ind][\"regions\"][str(j)][\"shape_attributes\"][\"all_points_x\"])\n",
        "            \n",
        "            y=(list(a.values())[ind][\"regions\"][str(j)][\"shape_attributes\"][\"all_points_y\"])\n",
        "            list_info[0].append([x,y])\n",
        "           \n",
        "        im=Image.open(\"/content/Mask_RCNN/image/image2/\"+img_name+\".jpg\")\n",
        "        list_info.append(im.size[0])\n",
        "        list_info.append(im.size[1])\n",
        "      \n",
        "        return list_info"
      ],
      "execution_count": 0,
      "outputs": []
    },
    {
      "cell_type": "code",
      "metadata": {
        "id": "bRwSt7BRNwsa",
        "colab_type": "code",
        "outputId": "e526dcdc-0a56-4246-a6be-d0f17c198fa9",
        "colab": {
          "base_uri": "https://localhost:8080/",
          "height": 51
        }
      },
      "source": [
        "#class that defines and loads the glasses dataset\n",
        "class HandleDoorDataset(Dataset):\n",
        "\n",
        "  # load the dataset definitions\n",
        "  def load_dataset(self, dataset_dir, is_train=True):\n",
        "    # define one class\n",
        "    self.add_class(\"dataset\", 1, \"image\")\n",
        "    # define data locations\n",
        "    images_dir = dataset_dir + '/image2/'\n",
        "    annotations_dir = dataset_dir + '/ImageJSON2.json/'\n",
        "    # find all images\n",
        "    for filename in listdir(images_dir):\n",
        "      # extract image id\n",
        "      image_name = filename[:-4]\n",
        "      image_id = filename[3:-4]      \n",
        "      # skip all images after 33 if we are building the train set\n",
        "      if is_train and int(image_id) in list_train:\n",
        "        continue\n",
        "\t\t  # skip all images before 33 if we are building the test/val set\n",
        "      if not is_train and not int(image_id) in list_train :\n",
        "        continue\n",
        "      img_path = images_dir + filename\n",
        "      ann = information(image_name,d)\n",
        "      # add to dataset\n",
        "      self.add_image('dataset', image_id=image_id, path=img_path, annotation=ann)\n",
        "\n",
        "\n",
        "  def load_mask(self, image_id):\n",
        "    info = self.image_info[image_id]\n",
        "    # define box file location\n",
        "    path = info['annotation']\n",
        "    # load JSON\n",
        "    boxes=path[0] \n",
        "    w=path[1]   \n",
        "    h=path[2] \n",
        "    #boxes, w, h = self.extract_boxes(path)\n",
        "    # create one array for all masks, each on a different channel\n",
        "    masks = zeros([h, w, len(boxes)], dtype='uint8')\n",
        "    # create masks\n",
        "    class_ids = list()\n",
        "    for i in range(len(boxes)):\n",
        "      box = boxes[i]      \n",
        "      rr, cc = skimage.draw.polygon(box[1], box[0])\n",
        "      masks[rr, cc, i] = 1\n",
        "      class_ids.append(self.class_names.index('image'))\n",
        "    return masks, asarray(class_ids, dtype='int32')\n",
        "\n",
        "\n",
        "  def image_reference(self, image_id):\n",
        "   info = self.image_info[image_id]\n",
        "   return info['path']\n",
        "\n",
        "\n",
        "# train set\n",
        "train_set = HandleDoorDataset()\n",
        "train_set.load_dataset('image', is_train=True)\n",
        "train_set.prepare()\n",
        "print('Train: %d' % len(train_set.image_ids))\n",
        " \n",
        "\n",
        "# test/val set\n",
        "test_set = HandleDoorDataset()\n",
        "test_set.load_dataset('image', is_train=False)\n",
        "test_set.prepare()\n",
        "print('Test: %d' % len(test_set.image_ids))"
      ],
      "execution_count": 9,
      "outputs": [
        {
          "output_type": "stream",
          "text": [
            "Train: 37\n",
            "Test: 10\n"
          ],
          "name": "stdout"
        }
      ]
    },
    {
      "cell_type": "code",
      "metadata": {
        "colab_type": "code",
        "id": "qvZSWbdsm023",
        "colab": {
          "base_uri": "https://localhost:8080/",
          "height": 1000
        },
        "outputId": "d4491f21-d359-40c8-9c0f-23b9ee9642be"
      },
      "source": [
        "# define a configuration for the model\n",
        "class HandleDoorConfig(Config):\n",
        "\t# define the name of the configuration\n",
        "\tNAME = \"image_cfg\"\n",
        "\t# number of classes (background + kangaroo)\n",
        "\tNUM_CLASSES = 1 + 1\n",
        "\t# number of training steps per epoch\n",
        "\tSTEPS_PER_EPOCH = len(train_set.image_ids)   #80\n",
        "\n",
        "\n",
        "# prepare config\n",
        "config = HandleDoorConfig()\n",
        "config.display()\n",
        "# define the model\n",
        "model = MaskRCNN(mode='training', model_dir='./', config=config)\n",
        "# load weights (mscoco) and exclude the output layers\n",
        "model.load_weights('mask_rcnn_coco.h5', by_name=True, exclude=[\"mrcnn_class_logits\", \"mrcnn_bbox_fc\",  \"mrcnn_bbox\", \"mrcnn_mask\"])\n",
        "# train weights (output layers or 'heads')\n",
        "model.train(train_set, test_set, learning_rate=config.LEARNING_RATE, epochs=5, layers='heads')"
      ],
      "execution_count": 10,
      "outputs": [
        {
          "output_type": "stream",
          "text": [
            "\n",
            "Configurations:\n",
            "BACKBONE                       resnet101\n",
            "BACKBONE_STRIDES               [4, 8, 16, 32, 64]\n",
            "BATCH_SIZE                     2\n",
            "BBOX_STD_DEV                   [0.1 0.1 0.2 0.2]\n",
            "COMPUTE_BACKBONE_SHAPE         None\n",
            "DETECTION_MAX_INSTANCES        100\n",
            "DETECTION_MIN_CONFIDENCE       0.7\n",
            "DETECTION_NMS_THRESHOLD        0.3\n",
            "FPN_CLASSIF_FC_LAYERS_SIZE     1024\n",
            "GPU_COUNT                      1\n",
            "GRADIENT_CLIP_NORM             5.0\n",
            "IMAGES_PER_GPU                 2\n",
            "IMAGE_CHANNEL_COUNT            3\n",
            "IMAGE_MAX_DIM                  1024\n",
            "IMAGE_META_SIZE                14\n",
            "IMAGE_MIN_DIM                  800\n",
            "IMAGE_MIN_SCALE                0\n",
            "IMAGE_RESIZE_MODE              square\n",
            "IMAGE_SHAPE                    [1024 1024    3]\n",
            "LEARNING_MOMENTUM              0.9\n",
            "LEARNING_RATE                  0.001\n",
            "LOSS_WEIGHTS                   {'rpn_class_loss': 1.0, 'rpn_bbox_loss': 1.0, 'mrcnn_class_loss': 1.0, 'mrcnn_bbox_loss': 1.0, 'mrcnn_mask_loss': 1.0}\n",
            "MASK_POOL_SIZE                 14\n",
            "MASK_SHAPE                     [28, 28]\n",
            "MAX_GT_INSTANCES               100\n",
            "MEAN_PIXEL                     [123.7 116.8 103.9]\n",
            "MINI_MASK_SHAPE                (56, 56)\n",
            "NAME                           image_cfg\n",
            "NUM_CLASSES                    2\n",
            "POOL_SIZE                      7\n",
            "POST_NMS_ROIS_INFERENCE        1000\n",
            "POST_NMS_ROIS_TRAINING         2000\n",
            "PRE_NMS_LIMIT                  6000\n",
            "ROI_POSITIVE_RATIO             0.33\n",
            "RPN_ANCHOR_RATIOS              [0.5, 1, 2]\n",
            "RPN_ANCHOR_SCALES              (32, 64, 128, 256, 512)\n",
            "RPN_ANCHOR_STRIDE              1\n",
            "RPN_BBOX_STD_DEV               [0.1 0.1 0.2 0.2]\n",
            "RPN_NMS_THRESHOLD              0.7\n",
            "RPN_TRAIN_ANCHORS_PER_IMAGE    256\n",
            "STEPS_PER_EPOCH                37\n",
            "TOP_DOWN_PYRAMID_SIZE          256\n",
            "TRAIN_BN                       False\n",
            "TRAIN_ROIS_PER_IMAGE           200\n",
            "USE_MINI_MASK                  True\n",
            "USE_RPN_ROIS                   True\n",
            "VALIDATION_STEPS               50\n",
            "WEIGHT_DECAY                   0.0001\n",
            "\n",
            "\n",
            "WARNING:tensorflow:From /usr/local/lib/python3.6/dist-packages/keras/backend/tensorflow_backend.py:541: The name tf.placeholder is deprecated. Please use tf.compat.v1.placeholder instead.\n",
            "\n",
            "WARNING:tensorflow:From /usr/local/lib/python3.6/dist-packages/keras/backend/tensorflow_backend.py:66: The name tf.get_default_graph is deprecated. Please use tf.compat.v1.get_default_graph instead.\n",
            "\n",
            "WARNING:tensorflow:From /usr/local/lib/python3.6/dist-packages/keras/backend/tensorflow_backend.py:4432: The name tf.random_uniform is deprecated. Please use tf.random.uniform instead.\n",
            "\n",
            "WARNING:tensorflow:From /usr/local/lib/python3.6/dist-packages/keras/backend/tensorflow_backend.py:2139: The name tf.nn.fused_batch_norm is deprecated. Please use tf.compat.v1.nn.fused_batch_norm instead.\n",
            "\n",
            "WARNING:tensorflow:From /usr/local/lib/python3.6/dist-packages/keras/backend/tensorflow_backend.py:4267: The name tf.nn.max_pool is deprecated. Please use tf.nn.max_pool2d instead.\n",
            "\n",
            "WARNING:tensorflow:From /usr/local/lib/python3.6/dist-packages/keras/backend/tensorflow_backend.py:2239: The name tf.image.resize_nearest_neighbor is deprecated. Please use tf.compat.v1.image.resize_nearest_neighbor instead.\n",
            "\n",
            "WARNING:tensorflow:From /usr/local/lib/python3.6/dist-packages/tensorflow_core/python/ops/array_ops.py:1475: where (from tensorflow.python.ops.array_ops) is deprecated and will be removed in a future version.\n",
            "Instructions for updating:\n",
            "Use tf.where in 2.0, which has the same broadcast rule as np.where\n",
            "WARNING:tensorflow:From /content/Mask_RCNN/mrcnn/model.py:553: The name tf.random_shuffle is deprecated. Please use tf.random.shuffle instead.\n",
            "\n",
            "WARNING:tensorflow:From /content/Mask_RCNN/mrcnn/utils.py:202: The name tf.log is deprecated. Please use tf.math.log instead.\n",
            "\n",
            "WARNING:tensorflow:From /content/Mask_RCNN/mrcnn/model.py:600: calling crop_and_resize_v1 (from tensorflow.python.ops.image_ops_impl) with box_ind is deprecated and will be removed in a future version.\n",
            "Instructions for updating:\n",
            "box_ind is deprecated, use box_indices instead\n",
            "WARNING:tensorflow:From /usr/local/lib/python3.6/dist-packages/keras/backend/tensorflow_backend.py:190: The name tf.get_default_session is deprecated. Please use tf.compat.v1.get_default_session instead.\n",
            "\n",
            "WARNING:tensorflow:From /usr/local/lib/python3.6/dist-packages/keras/backend/tensorflow_backend.py:197: The name tf.ConfigProto is deprecated. Please use tf.compat.v1.ConfigProto instead.\n",
            "\n",
            "WARNING:tensorflow:From /usr/local/lib/python3.6/dist-packages/keras/backend/tensorflow_backend.py:203: The name tf.Session is deprecated. Please use tf.compat.v1.Session instead.\n",
            "\n",
            "WARNING:tensorflow:From /usr/local/lib/python3.6/dist-packages/keras/backend/tensorflow_backend.py:207: The name tf.global_variables is deprecated. Please use tf.compat.v1.global_variables instead.\n",
            "\n",
            "WARNING:tensorflow:From /usr/local/lib/python3.6/dist-packages/keras/backend/tensorflow_backend.py:216: The name tf.is_variable_initialized is deprecated. Please use tf.compat.v1.is_variable_initialized instead.\n",
            "\n",
            "WARNING:tensorflow:From /usr/local/lib/python3.6/dist-packages/keras/backend/tensorflow_backend.py:223: The name tf.variables_initializer is deprecated. Please use tf.compat.v1.variables_initializer instead.\n",
            "\n",
            "\n",
            "Starting at epoch 0. LR=0.001\n",
            "\n",
            "Checkpoint Path: ./image_cfg20200131T1839/mask_rcnn_image_cfg_{epoch:04d}.h5\n",
            "Selecting layers to train\n",
            "fpn_c5p5               (Conv2D)\n",
            "fpn_c4p4               (Conv2D)\n",
            "fpn_c3p3               (Conv2D)\n",
            "fpn_c2p2               (Conv2D)\n",
            "fpn_p5                 (Conv2D)\n",
            "fpn_p2                 (Conv2D)\n",
            "fpn_p3                 (Conv2D)\n",
            "fpn_p4                 (Conv2D)\n",
            "In model:  rpn_model\n",
            "    rpn_conv_shared        (Conv2D)\n",
            "    rpn_class_raw          (Conv2D)\n",
            "    rpn_bbox_pred          (Conv2D)\n",
            "mrcnn_mask_conv1       (TimeDistributed)\n",
            "mrcnn_mask_bn1         (TimeDistributed)\n",
            "mrcnn_mask_conv2       (TimeDistributed)\n",
            "mrcnn_mask_bn2         (TimeDistributed)\n",
            "mrcnn_class_conv1      (TimeDistributed)\n",
            "mrcnn_class_bn1        (TimeDistributed)\n",
            "mrcnn_mask_conv3       (TimeDistributed)\n",
            "mrcnn_mask_bn3         (TimeDistributed)\n",
            "mrcnn_class_conv2      (TimeDistributed)\n",
            "mrcnn_class_bn2        (TimeDistributed)\n",
            "mrcnn_mask_conv4       (TimeDistributed)\n",
            "mrcnn_mask_bn4         (TimeDistributed)\n",
            "mrcnn_bbox_fc          (TimeDistributed)\n",
            "mrcnn_mask_deconv      (TimeDistributed)\n",
            "mrcnn_class_logits     (TimeDistributed)\n",
            "mrcnn_mask             (TimeDistributed)\n",
            "WARNING:tensorflow:From /usr/local/lib/python3.6/dist-packages/keras/optimizers.py:793: The name tf.train.Optimizer is deprecated. Please use tf.compat.v1.train.Optimizer instead.\n",
            "\n"
          ],
          "name": "stdout"
        },
        {
          "output_type": "stream",
          "text": [
            "/usr/local/lib/python3.6/dist-packages/tensorflow_core/python/framework/indexed_slices.py:424: UserWarning: Converting sparse IndexedSlices to a dense Tensor of unknown shape. This may consume a large amount of memory.\n",
            "  \"Converting sparse IndexedSlices to a dense Tensor of unknown shape. \"\n",
            "/usr/local/lib/python3.6/dist-packages/tensorflow_core/python/framework/indexed_slices.py:424: UserWarning: Converting sparse IndexedSlices to a dense Tensor of unknown shape. This may consume a large amount of memory.\n",
            "  \"Converting sparse IndexedSlices to a dense Tensor of unknown shape. \"\n",
            "/usr/local/lib/python3.6/dist-packages/tensorflow_core/python/framework/indexed_slices.py:424: UserWarning: Converting sparse IndexedSlices to a dense Tensor of unknown shape. This may consume a large amount of memory.\n",
            "  \"Converting sparse IndexedSlices to a dense Tensor of unknown shape. \"\n"
          ],
          "name": "stderr"
        },
        {
          "output_type": "stream",
          "text": [
            "WARNING:tensorflow:From /usr/local/lib/python3.6/dist-packages/keras/backend/tensorflow_backend.py:1033: The name tf.assign_add is deprecated. Please use tf.compat.v1.assign_add instead.\n",
            "\n",
            "WARNING:tensorflow:From /usr/local/lib/python3.6/dist-packages/keras/backend/tensorflow_backend.py:1020: The name tf.assign is deprecated. Please use tf.compat.v1.assign instead.\n",
            "\n"
          ],
          "name": "stdout"
        },
        {
          "output_type": "stream",
          "text": [
            "/usr/local/lib/python3.6/dist-packages/keras/engine/training_generator.py:49: UserWarning: Using a generator with `use_multiprocessing=True` and multiple workers may duplicate your data. Please consider using the `keras.utils.Sequence class.\n",
            "  UserWarning('Using a generator with `use_multiprocessing=True`'\n"
          ],
          "name": "stderr"
        },
        {
          "output_type": "stream",
          "text": [
            "WARNING:tensorflow:From /usr/local/lib/python3.6/dist-packages/keras/callbacks.py:1122: The name tf.summary.merge_all is deprecated. Please use tf.compat.v1.summary.merge_all instead.\n",
            "\n",
            "WARNING:tensorflow:From /usr/local/lib/python3.6/dist-packages/keras/callbacks.py:1125: The name tf.summary.FileWriter is deprecated. Please use tf.compat.v1.summary.FileWriter instead.\n",
            "\n",
            "Epoch 1/5\n",
            "37/37 [==============================] - 93s 3s/step - loss: 2.3983 - rpn_class_loss: 0.0298 - rpn_bbox_loss: 0.3515 - mrcnn_class_loss: 0.1259 - mrcnn_bbox_loss: 0.7918 - mrcnn_mask_loss: 1.0993 - val_loss: 2.0513 - val_rpn_class_loss: 0.0102 - val_rpn_bbox_loss: 0.4994 - val_mrcnn_class_loss: 0.0350 - val_mrcnn_bbox_loss: 0.9377 - val_mrcnn_mask_loss: 0.5691\n",
            "WARNING:tensorflow:From /usr/local/lib/python3.6/dist-packages/keras/callbacks.py:1265: The name tf.Summary is deprecated. Please use tf.compat.v1.Summary instead.\n",
            "\n",
            "Epoch 2/5\n",
            "37/37 [==============================] - 35s 958ms/step - loss: 1.6229 - rpn_class_loss: 0.0056 - rpn_bbox_loss: 0.3541 - mrcnn_class_loss: 0.0461 - mrcnn_bbox_loss: 0.7393 - mrcnn_mask_loss: 0.4779 - val_loss: 1.5216 - val_rpn_class_loss: 0.0079 - val_rpn_bbox_loss: 0.3746 - val_mrcnn_class_loss: 0.0313 - val_mrcnn_bbox_loss: 0.6803 - val_mrcnn_mask_loss: 0.4274\n",
            "Epoch 3/5\n",
            "37/37 [==============================] - 36s 963ms/step - loss: 1.3806 - rpn_class_loss: 0.0062 - rpn_bbox_loss: 0.2047 - mrcnn_class_loss: 0.0434 - mrcnn_bbox_loss: 0.7881 - mrcnn_mask_loss: 0.3383 - val_loss: 1.7495 - val_rpn_class_loss: 0.0103 - val_rpn_bbox_loss: 0.5233 - val_mrcnn_class_loss: 0.0342 - val_mrcnn_bbox_loss: 0.7003 - val_mrcnn_mask_loss: 0.4814\n",
            "Epoch 4/5\n",
            "37/37 [==============================] - 36s 965ms/step - loss: 1.1205 - rpn_class_loss: 0.0077 - rpn_bbox_loss: 0.2548 - mrcnn_class_loss: 0.0522 - mrcnn_bbox_loss: 0.5000 - mrcnn_mask_loss: 0.3058 - val_loss: 1.7890 - val_rpn_class_loss: 0.0087 - val_rpn_bbox_loss: 0.5323 - val_mrcnn_class_loss: 0.0287 - val_mrcnn_bbox_loss: 0.8140 - val_mrcnn_mask_loss: 0.4053\n",
            "Epoch 5/5\n",
            "37/37 [==============================] - 36s 977ms/step - loss: 0.9319 - rpn_class_loss: 0.0078 - rpn_bbox_loss: 0.1508 - mrcnn_class_loss: 0.0350 - mrcnn_bbox_loss: 0.5161 - mrcnn_mask_loss: 0.2222 - val_loss: 1.2443 - val_rpn_class_loss: 0.0067 - val_rpn_bbox_loss: 0.4082 - val_mrcnn_class_loss: 0.0388 - val_mrcnn_bbox_loss: 0.3899 - val_mrcnn_mask_loss: 0.4008\n"
          ],
          "name": "stdout"
        }
      ]
    },
    {
      "cell_type": "code",
      "metadata": {
        "id": "ScKCBCioyDhP",
        "colab_type": "code",
        "colab": {}
      },
      "source": [
        "# define the prediction configuration\n",
        "class PredictionConfig(Config):\n",
        "\t# define the name of the configuration\n",
        "\tNAME = \"image_cfg\"\n",
        "\t# number of classes (background + kangaroo)\n",
        "\tNUM_CLASSES = 1 + 1\n",
        "\t# simplify GPU config\n",
        "\tGPU_COUNT = 1\n",
        "\tIMAGES_PER_GPU = 1\n",
        "\n",
        "\n",
        "# calculate the mAP for a model on a given dataset\n",
        "def evaluate_model(dataset, model, cfg):\n",
        "\tAPs = list()\n",
        "\tfor image_id in dataset.image_ids:\n",
        "\t\t# load image, bounding boxes and masks for the image id\n",
        "\t\timage, image_meta, gt_class_id, gt_bbox, gt_mask = load_image_gt(dataset, cfg, image_id, use_mini_mask=False)\n",
        "\t\t# convert pixel values (e.g. center)\n",
        "\t\tscaled_image = mold_image(image, cfg)\n",
        "\t\t# convert image into one sample\n",
        "\t\tsample = expand_dims(scaled_image, 0)\n",
        "\t\t# make prediction\n",
        "\t\tyhat = model.detect(sample, verbose=0)\n",
        "\t\t# extract results for first sample\n",
        "\t\tr = yhat[0]\n",
        "\t\t# calculate statistics, including AP\n",
        "\t\tAP, _, _, _ = compute_ap(gt_bbox, gt_class_id, gt_mask, r[\"rois\"], r[\"class_ids\"], r[\"scores\"], r['masks'])\n",
        "\t\t# store\n",
        "\t\tAPs.append(AP)\n",
        "\t# calculate the mean AP across all images\n",
        "\tmAP = mean(APs)\n",
        "\treturn mAP\n",
        "\n",
        "\n",
        "# create config\n",
        "cfg = PredictionConfig()\n",
        "# define the model\n",
        "model = MaskRCNN(mode='inference', model_dir='./', config=cfg)\n",
        "# load model weights\n",
        "model.load_weights('mask_rcnn_image_cfg_0005.h5', by_name=True)\n"
      ],
      "execution_count": 0,
      "outputs": []
    },
    {
      "cell_type": "code",
      "metadata": {
        "id": "QOeL_TtBypHK",
        "colab_type": "code",
        "colab": {
          "base_uri": "https://localhost:8080/",
          "height": 939
        },
        "outputId": "c53591a0-0a87-42c3-917c-844a4f891e95"
      },
      "source": [
        "# plot a number of photos with ground truth and predictions\n",
        "def plot_actual_vs_predicted(dataset, model, cfg, n_images=5):\n",
        "  # load image and mask\n",
        "  for i in range(n_images):\n",
        "    # load the image and mask\n",
        "    image = dataset.load_image(i)\n",
        "    mask, _ = dataset.load_mask(i)\n",
        "    # convert pixel values (e.g. center)\n",
        "    scaled_image = mold_image(image, cfg)\n",
        "    # convert image into one sample\n",
        "    sample = expand_dims(scaled_image, 0)\n",
        "    # make prediction\n",
        "    yhat = model.detect(sample, verbose=0)[0]\n",
        "  \n",
        "    # define subplot\n",
        "    pyplot.subplot(n_images, 2, i*2+1)\n",
        "    # plot raw pixel data\n",
        "    pyplot.imshow(image)\n",
        "    pyplot.title('Actual')\n",
        "    # plot masks\n",
        "    print(mask.shape)\n",
        "    for j in range(mask.shape[2]):\n",
        "      pyplot.imshow(mask[:, :, j], cmap='gray', alpha=0.3)\n",
        "    # get the context for drawing boxes\n",
        "      pyplot.subplot(n_images, 2, i*2+2)\n",
        "    # plot raw pixel data\n",
        "    pyplot.imshow(image)\n",
        "    \n",
        "    pyplot.title('Predicted')\n",
        "    ax = pyplot.gca()\n",
        "    \n",
        "\n",
        "\n",
        "\n",
        "    # plot yhat\n",
        "    print(yhat['masks'].shape)\n",
        "    for j in range(yhat['masks'].shape[2]):\n",
        "      pyplot.imshow(yhat['masks'][:, :, j], cmap='Greens', alpha=0.3)\n",
        "    # get the context for drawing boxes\n",
        "      pyplot.subplot(n_images, 2, i*2+2)\n",
        "    # plot raw pixel data\n",
        "\n",
        "\n",
        "  # show the figure\n",
        "  pyplot.show()\n",
        "  pyplot.savefig('resultat.png')\n",
        "\n",
        "# plot predictions for train dataset\n",
        "plot_actual_vs_predicted(train_set, model, cfg)\n",
        "\n",
        "# plot predictions for test dataset\n",
        "plot_actual_vs_predicted(test_set, model, cfg)"
      ],
      "execution_count": 14,
      "outputs": [
        {
          "output_type": "stream",
          "text": [
            "(1280, 852, 1)\n",
            "(1280, 852, 3)\n"
          ],
          "name": "stdout"
        },
        {
          "output_type": "stream",
          "text": [
            "/usr/local/lib/python3.6/dist-packages/ipykernel_launcher.py:39: MatplotlibDeprecationWarning: Adding an axes using the same arguments as a previous axes currently reuses the earlier instance.  In a future version, a new instance will always be created and returned.  Meanwhile, this warning can be suppressed, and the future behavior ensured, by passing a unique label to each axes instance.\n"
          ],
          "name": "stderr"
        },
        {
          "output_type": "stream",
          "text": [
            "(640, 640, 1)\n",
            "(640, 640, 2)\n",
            "(856, 1280, 1)\n",
            "(856, 1280, 7)\n",
            "(2132, 3112, 1)\n",
            "(2132, 3112, 7)\n",
            "(3713, 2555, 1)\n",
            "(3713, 2555, 7)\n"
          ],
          "name": "stdout"
        },
        {
          "output_type": "display_data",
          "data": {
            "image/png": "[encoded data removed]",
            "text/plain": [
              "<Figure size 432x288 with 10 Axes>"
            ]
          },
          "metadata": {
            "tags": []
          }
        },
        {
          "output_type": "stream",
          "text": [
            "(853, 1280, 1)\n",
            "(853, 1280, 2)\n",
            "(645, 456, 1)\n",
            "(645, 456, 2)\n",
            "(683, 1024, 1)\n",
            "(683, 1024, 3)\n",
            "(3456, 5184, 1)\n",
            "(3456, 5184, 15)\n",
            "(2304, 3072, 1)\n",
            "(2304, 3072, 6)\n"
          ],
          "name": "stdout"
        },
        {
          "output_type": "display_data",
          "data": {
            "image/png": "[encoded data removed]",
            "text/plain": [
              "<Figure size 432x288 with 10 Axes>"
            ]
          },
          "metadata": {
            "tags": []
          }
        },
        {
          "output_type": "display_data",
          "data": {
            "text/plain": [
              "<Figure size 432x288 with 0 Axes>"
            ]
          },
          "metadata": {
            "tags": []
          }
        }
      ]
    }
  ]
}